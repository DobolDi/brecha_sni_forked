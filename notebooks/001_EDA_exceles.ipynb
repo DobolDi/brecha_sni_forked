{
 "cells": [
  {
   "cell_type": "code",
   "execution_count": 8,
   "id": "96b6d7da-678c-448b-9ba5-e0aef197336e",
   "metadata": {},
   "outputs": [],
   "source": [
    "import pandas as pd\n",
    "import glob as glob"
   ]
  },
  {
   "cell_type": "code",
   "execution_count": 28,
   "id": "125aa6ad-c987-4302-ad67-58af879ebe35",
   "metadata": {},
   "outputs": [
    {
     "data": {
      "text/plain": [
       "['../data/historicos/Investigadores_vigentes_2003.xlsx',\n",
       " '../data/historicos/Investigadores_vigentes_2009.xlsx',\n",
       " '../data/historicos/Investigadores_vigentes_2014.xlsx',\n",
       " '../data/historicos/Investigadores_Vigentes_2020.xlsx',\n",
       " '../data/historicos/Investigadores_vigentes_2021.xlsx',\n",
       " '../data/historicos/Investigadores_vigentes_2012.xlsx',\n",
       " '../data/historicos/Investigadores_vigentes_2005.xlsx',\n",
       " '../data/historicos/Investigadores_vigentes_2007.xlsx',\n",
       " '../data/historicos/Investigadores_Vigentes_2019.xlsx',\n",
       " '../data/historicos/Investigadores_vigentes_2000.xlsx',\n",
       " '../data/historicos/Investigadores_Vigentes_2022.xlsx',\n",
       " '../data/historicos/Investigadores_vigentes_2001.xlsx',\n",
       " '../data/historicos/Investigadores_Vigentes_2015.xlsx',\n",
       " '../data/historicos/Investigadores_vigentes_2013.xlsx',\n",
       " '../data/historicos/Investigadores_vigentes_2008.xlsx',\n",
       " '../data/historicos/Investigadore_vigentes_2011.xlsx',\n",
       " '../data/historicos/Investigadores_Vigentes_2016.xlsx',\n",
       " '../data/historicos/Investigadores_vigentes_2023.xlsx',\n",
       " '../data/historicos/Investigadores_vigentes_2010.xlsx',\n",
       " '../data/historicos/Investigadores_vigentes_2004.xlsx',\n",
       " '../data/historicos/Investigadores_Vigentes_2017.xlsx',\n",
       " '../data/historicos/Investigadores_vigentes_2006.xlsx',\n",
       " '../data/historicos/Investigadores_vigentes_2002.xlsx',\n",
       " '../data/historicos/Investigadores_Vigentes_2018.xlsx']"
      ]
     },
     "execution_count": 28,
     "metadata": {},
     "output_type": "execute_result"
    }
   ],
   "source": [
    "archivos = glob.glob(\"../data/historicos/*.xlsx\")\n",
    "archivos"
   ]
  },
  {
   "cell_type": "code",
   "execution_count": 3,
   "id": "d4ff4c5e-a1e6-470b-972e-b6e7524387c0",
   "metadata": {},
   "outputs": [],
   "source": [
    "# columnas = [pd.read_excel(archivo).columns for archivo in archivos]\n",
    "# columnas"
   ]
  },
  {
   "cell_type": "code",
   "execution_count": 44,
   "id": "da7c4d86-71f0-4dd1-960d-4d5ecc068293",
   "metadata": {},
   "outputs": [],
   "source": [
    "dfs = []\n",
    "for archivo in archivos:\n",
    "    try:\n",
    "        anio = archivo[-9:-5]\n",
    "        df = pd.read_excel(archivo)\n",
    "        df[\"anio\"] = anio\n",
    "        dfs.append(df)\n",
    "    except:\n",
    "        print(f\"El archivo {archivo} no se pudo leer\")\n",
    "\n",
    "sni = pd.concat(dfs,ignore_index=True)\n",
    "# sni.set_index(\"AÑO\",inplace=True)"
   ]
  },
  {
   "cell_type": "code",
   "execution_count": 45,
   "id": "c0ce5f45-6ec0-4f18-8197-c78f601b8cef",
   "metadata": {},
   "outputs": [
    {
     "data": {
      "text/plain": [
       "anio\n",
       "2023    41367\n",
       "2022    36624\n",
       "2021    35178\n",
       "2020    33165\n",
       "2019    30548\n",
       "2018    28633\n",
       "2017    27187\n",
       "2016    25076\n",
       "2015    23316\n",
       "2014    21359\n",
       "2013    19747\n",
       "2012    18555\n",
       "2011    17639\n",
       "2010    16598\n",
       "2009    15565\n",
       "2008    14681\n",
       "2007    13485\n",
       "2006    12096\n",
       "2005    10904\n",
       "2004    10189\n",
       "2002     9199\n",
       "2003     9199\n",
       "2001     8018\n",
       "2000     7466\n",
       "Name: count, dtype: int64"
      ]
     },
     "execution_count": 45,
     "metadata": {},
     "output_type": "execute_result"
    }
   ],
   "source": [
    "sni[\"anio\"].value_counts()"
   ]
  },
  {
   "cell_type": "code",
   "execution_count": 46,
   "id": "7fa3336c-db22-468e-9d01-b6a3aeadc420",
   "metadata": {},
   "outputs": [
    {
     "data": {
      "text/plain": [
       "array(['2003', '2009', '2014', '2020', '2021', '2012', '2005', '2007',\n",
       "       '2019', '2000', '2022', '2001', '2015', '2013', '2008', '2011',\n",
       "       '2016', '2023', '2010', '2004', '2017', '2006', '2002', '2018'],\n",
       "      dtype=object)"
      ]
     },
     "execution_count": 46,
     "metadata": {},
     "output_type": "execute_result"
    }
   ],
   "source": [
    "sni[\"anio\"].unique()"
   ]
  },
  {
   "cell_type": "code",
   "execution_count": 47,
   "id": "4a78b7ff-7b38-44fd-8356-1b175e83b6b6",
   "metadata": {},
   "outputs": [],
   "source": [
    "sni[[\n",
    "       'NOMBRE DE LA INVESTIGADORA O INVESTIGADOR', 'NOBILIS', 'NIVEL',\n",
    "       # 'FECHA DE INICIO DE VIGENCIA', 'FECHA DE FIN DE VIGENCIA',\n",
    "       'ÁREA DEL CONOCIMIENTO', 'DISCIPLINA (a partir de 1991)',\n",
    "       'SUBDISCIPLINA (a partir de 1991)', 'ESPECIALIDAD (a partir de 1991)',\n",
    "       'INSTITUCIÓN DE ADSCRIPCIÓN (a partir de 1990)',\n",
    "       'DEPENDENCIA (a partir de 1991)',\n",
    "       'ENTIDAD FEDERATIVA ADSCRIPCIÓN\\n(a partir de 1990)',\n",
    "       'PAIS ADSCRIPCIÓN \\n(a partir de 1990)', 'CVU',\n",
    "       'NOMBRE DE LA INVESTIGADORA O DEL INVESTIGADOR', 'DISCIPLINA',\n",
    "       'SUBDISCIPLINA', 'ESPECIALIDAD', 'INSTITUCIÓN DE ADSCRIPCIÓN',\n",
    "       'DEPENDENCIA', 'ENTIDAD FEDERATIVA', 'PAIS', \n",
    "        # 'ESTÍMULO ECONÓMICO',\n",
    "       'Estímulo Económico', \n",
    "        'GRADO ACADÉMICO', 'NOMBRE DEL INVESTIGADOR',\n",
    "       'EMÉRITO', 'VIVO?', 'DEPENDENCIA DE ADSCRIPCIÓN',\n",
    "       'ENTIDAD FEDERATIVA DE ADSCRIPCIÓN', 'PAÍS DE ADSCRIPCIÓN',\"anio\"]].to_csv(\"../data/sni_2000-2023.csv\")"
   ]
  },
  {
   "cell_type": "code",
   "execution_count": 13,
   "id": "a8724743-b671-4203-ac41-398f8a9b2130",
   "metadata": {},
   "outputs": [
    {
     "data": {
      "text/plain": [
       "244479"
      ]
     },
     "execution_count": 13,
     "metadata": {},
     "output_type": "execute_result"
    }
   ],
   "source": [
    "sni[\"AÑO\"].isna().sum()"
   ]
  },
  {
   "cell_type": "code",
   "execution_count": null,
   "id": "297084ad-2703-4ef9-8d67-2bbe57e9017f",
   "metadata": {},
   "outputs": [],
   "source": []
  }
 ],
 "metadata": {
  "kernelspec": {
   "display_name": "Python (myenv)",
   "language": "python",
   "name": "myenv"
  },
  "language_info": {
   "codemirror_mode": {
    "name": "ipython",
    "version": 3
   },
   "file_extension": ".py",
   "mimetype": "text/x-python",
   "name": "python",
   "nbconvert_exporter": "python",
   "pygments_lexer": "ipython3",
   "version": "3.10.4"
  }
 },
 "nbformat": 4,
 "nbformat_minor": 5
}
